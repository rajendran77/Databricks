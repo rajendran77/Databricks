{
 "cells": [
  {
   "cell_type": "code",
   "execution_count": 0,
   "metadata": {
    "application/vnd.databricks.v1+cell": {
     "cellMetadata": {
      "byteLimit": 2048000,
      "rowLimit": 10000
     },
     "inputWidgets": {},
     "nuid": "f4fdd68f-2a85-4b78-b03e-b0ac108057cd",
     "showTitle": false,
     "tableResultSettingsMap": {},
     "title": ""
    }
   },
   "outputs": [],
   "source": [
    "import hashlib, uuid, time, random, string \n",
    "\n",
    "for i in range(20):\n",
    "    num10 = random.randint(10000000, 1000000000)  # Random integer between 1 and 100 (inclusive)\n",
    "    num1 = str(num10)\n",
    "\n",
    "    def generate_random_string():\n",
    "        letters = random.choices(string.ascii_lowercase, k=2)  # Pick 2 random lowercase letters\n",
    "        digits = random.choices(string.digits, k=2)  # Pick 2 random digits\n",
    "        combined = letters + digits  # Combine letters and digits\n",
    "        random.shuffle(combined)  # Shuffle to mix letters and numbers\n",
    "        return ''.join(combined)\n",
    "\n",
    "    random_str4 = ''.join(random.choices(string.ascii_lowercase  + string.digits, k=15))\n",
    "\n",
    "    def random_md5():\n",
    "        a= hashlib.md5(uuid.uuid4().bytes).hexdigest() \n",
    "        str='20241206T' + time.strftime(\"%H%M%S\", time.localtime())+ num1 + '-'+generate_random_string()+'-'+generate_random_string()+'-'+generate_random_string()+'-'+random_str4+'.json'\n",
    "        return str\n",
    "    print(random_md5())\n"
   ]
  }
 ],
 "metadata": {
  "application/vnd.databricks.v1+notebook": {
   "computePreferences": null,
   "dashboards": [],
   "environmentMetadata": {
    "base_environment": "",
    "environment_version": "2"
   },
   "language": "python",
   "notebookMetadata": {
    "pythonIndentUnit": 4
   },
   "notebookName": "random_file_generation",
   "widgets": {}
  },
  "language_info": {
   "name": "python"
  }
 },
 "nbformat": 4,
 "nbformat_minor": 0
}
